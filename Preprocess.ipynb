{
  "cells": [
    {
      "cell_type": "code",
      "execution_count": 1,
      "metadata": {
        "id": "W2deY4Ne8nTT"
      },
      "outputs": [],
      "source": [
        "import os\n",
        "import pickle\n",
        "import numpy as np\n",
        "import matplotlib.pyplot as plt\n",
        "%matplotlib inline\n",
        "import seaborn as sns\n",
        "import pandas as pd\n",
        "from scipy import stats\n",
        "import matplotlib.pyplot as plt\n",
        "from scipy.signal import resample\n",
        "import dask.dataframe as dd"
      ]
    },
    {
      "cell_type": "code",
      "source": [
        "data_path = '/content/drive/MyDrive/TFM/WESAD/'\n",
        "ids = [2,3,4,5,6,7,8,9,10,11,13,14,15,16,17]\n",
        "for i in ids:\n",
        "    print(data_path + 'S' + str(i) + '/S' + str(i) + '.pkl')"
      ],
      "metadata": {
        "colab": {
          "base_uri": "https://localhost:8080/"
        },
        "id": "afzgKTBqdULp",
        "outputId": "ef70f777-7229-4a26-930b-8d27ddd490c2"
      },
      "execution_count": 2,
      "outputs": [
        {
          "output_type": "stream",
          "name": "stdout",
          "text": [
            "/content/drive/MyDrive/TFM/WESAD/S2/S2.pkl\n",
            "/content/drive/MyDrive/TFM/WESAD/S3/S3.pkl\n",
            "/content/drive/MyDrive/TFM/WESAD/S4/S4.pkl\n",
            "/content/drive/MyDrive/TFM/WESAD/S5/S5.pkl\n",
            "/content/drive/MyDrive/TFM/WESAD/S6/S6.pkl\n",
            "/content/drive/MyDrive/TFM/WESAD/S7/S7.pkl\n",
            "/content/drive/MyDrive/TFM/WESAD/S8/S8.pkl\n",
            "/content/drive/MyDrive/TFM/WESAD/S9/S9.pkl\n",
            "/content/drive/MyDrive/TFM/WESAD/S10/S10.pkl\n",
            "/content/drive/MyDrive/TFM/WESAD/S11/S11.pkl\n",
            "/content/drive/MyDrive/TFM/WESAD/S13/S13.pkl\n",
            "/content/drive/MyDrive/TFM/WESAD/S14/S14.pkl\n",
            "/content/drive/MyDrive/TFM/WESAD/S15/S15.pkl\n",
            "/content/drive/MyDrive/TFM/WESAD/S16/S16.pkl\n",
            "/content/drive/MyDrive/TFM/WESAD/S17/S17.pkl\n"
          ]
        }
      ]
    },
    {
      "cell_type": "code",
      "execution_count": 2,
      "metadata": {
        "id": "pmoBfOlT_inG"
      },
      "outputs": [],
      "source": [
        "path = '/content/drive/MyDrive/TFM/'\n",
        "data_path = '/content/drive/MyDrive/TFM/WESAD/'\n",
        "\n",
        "chest_columns = ['id', 'ACC_x', 'ACC_y', 'ACC_z', 'ECG', 'EMG', 'EDA', 'TEMP', 'RESP', 'label']\n",
        "wrist_columns = ['id', 'ACC_x', 'ACC_y', 'ACC_z', 'BVP', 'EDA', 'TEMP', 'label']\n",
        "all_columns = ['id', 'c_ACC_x', 'c_ACC_y', 'c_ACC_z', 'ECG', 'EMG', 'c_EDA', 'c_TEMP', 'RESP', 'w_ACC_x' , 'w_ACC_y', 'w_ACC_z', 'BVP', 'w_EDA', 'w_TEMP', 'label']\n",
        "# los datos de sujetos S1 y S12 fueron descartados\n",
        "ids = [2,3,4,5,6,7,8,9,10,11,13,14,15,16,17]\n",
        "# frecuencia de muestreos\n",
        "f_BVP = 64\n",
        "f_EDA = 4\n",
        "f_TEMP = 4\n",
        "f_ACC = 32\n",
        "f_chest = 700\n",
        "\n",
        "# convertir los datos del dispositivo en la muñeca de formato .pkl a dataframe\n",
        "\n",
        "def convert_wrist(file, subject_id):\n",
        "  convert_df = pd.read_pickle(file)\n",
        "  df_acc_x = pd.DataFrame(convert_df[\"signal\"][\"wrist\"][\"ACC\"])[0]\n",
        "  df_acc_y = pd.DataFrame(convert_df[\"signal\"][\"wrist\"][\"ACC\"])[1]\n",
        "  df_acc_z = pd.DataFrame(convert_df[\"signal\"][\"wrist\"][\"ACC\"])[2]\n",
        "  df_bvp = pd.DataFrame(convert_df[\"signal\"][\"wrist\"][\"BVP\"])\n",
        "  df_eda = pd.DataFrame(convert_df[\"signal\"][\"wrist\"][\"EDA\"])\n",
        "  df_temp = pd.DataFrame(convert_df[\"signal\"][\"wrist\"][\"TEMP\"])\n",
        "  df_label = pd.DataFrame(convert_df[\"label\"])\n",
        "\n",
        "  resampled_acc_x_data = resample(df_acc_x, int(len(df_acc_x) * f_chest / f_ACC))\n",
        "  resampled_acc_y_data = resample(df_acc_y, int(len(df_acc_y) * f_chest / f_ACC))\n",
        "  resampled_acc_z_data = resample(df_acc_z, int(len(df_acc_z) * f_chest / f_ACC))\n",
        "  resampled_bvp_data = resample(df_bvp, int(len(df_bvp) * f_chest / f_BVP))\n",
        "  resampled_eda_data = resample(df_eda, int(len(df_eda) * f_chest / f_EDA))\n",
        "  resampled_temp_data = resample(df_temp, int(len(df_temp) * f_chest / f_TEMP))\n",
        "\n",
        "  df_resampled_acc_x = pd.DataFrame(resampled_acc_x_data)\n",
        "  df_resampled_acc_y = pd.DataFrame(resampled_acc_y_data)\n",
        "  df_resampled_acc_z = pd.DataFrame(resampled_acc_z_data)\n",
        "  df_resampled_bvp = pd.DataFrame(resampled_bvp_data)\n",
        "  df_resampled_eda = pd.DataFrame(resampled_eda_data)\n",
        "  df_resampled_temp = pd.DataFrame(resampled_temp_data)\n",
        "\n",
        "  df_wrist = pd.concat([df_resampled_acc_x, df_resampled_acc_y, df_resampled_acc_z, df_resampled_bvp, df_resampled_eda, df_resampled_temp, df_label], axis=1)\n",
        "  df_wrist.columns = ['ACC_x', 'ACC_y', 'ACC_z', 'BVP', 'EDA', 'TEMP', 'label']\n",
        "  df_wrist.insert(0, 'id', subject_id)\n",
        "\n",
        "  return df_wrist\n",
        "\n",
        "def combine_wrist():\n",
        "    for i, sid in enumerate(ids):\n",
        "        file = data_path + 'S' + str(sid) + '/S' + str(sid) + '.pkl'\n",
        "        print(\"\")\n",
        "        print(\"Procesando el archivo \", file)\n",
        "        if i == 0:\n",
        "            combined_data = convert_wrist(file, sid)\n",
        "            print(\"Dimensión de datos combinados de muñeca: \", combined_data.shape)\n",
        "        else:\n",
        "            last_subj = convert_wrist(file, sid)\n",
        "            combined_data = np.concatenate((combined_data, last_subj), axis=0)\n",
        "            print(\"Dimensión de datos combinados de muñeca: \", combined_data.shape)\n",
        "\n",
        "    fn_combined = path + 'combined_wrist.pkl'\n",
        "    pd.DataFrame(combined_data, columns=wrist_columns).to_pickle(fn_combined)\n",
        "\n",
        "\n",
        "# convertir los datos del dispositivo en el pecho de formato .pkl a dataframe\n",
        "def convert_chest(file, subject_id):\n",
        "    convert_df = pd.read_pickle(file)\n",
        "    df_acc_x = pd.DataFrame(convert_df[\"signal\"][\"chest\"][\"ACC\"])[0]\n",
        "    df_acc_y = pd.DataFrame(convert_df[\"signal\"][\"chest\"][\"ACC\"])[1]\n",
        "    df_acc_z = pd.DataFrame(convert_df[\"signal\"][\"chest\"][\"ACC\"])[2]\n",
        "    df_ecg = pd.DataFrame(convert_df[\"signal\"][\"chest\"][\"ECG\"])\n",
        "    df_emg = pd.DataFrame(convert_df[\"signal\"][\"chest\"][\"EMG\"])\n",
        "    df_eda = pd.DataFrame(convert_df[\"signal\"][\"chest\"][\"EDA\"])\n",
        "    df_temp = pd.DataFrame(convert_df[\"signal\"][\"chest\"][\"Temp\"])\n",
        "    df_resp = pd.DataFrame(convert_df[\"signal\"][\"chest\"][\"Resp\"])\n",
        "    df_label = pd.DataFrame(convert_df[\"label\"])\n",
        "\n",
        "    df_chest = pd.concat([df_acc_x, df_acc_y, df_acc_z, df_ecg, df_emg, df_eda, df_temp, df_resp, df_label], axis=1)\n",
        "    df_chest.columns = ['ACC_x', 'ACC_y', 'ACC_z', 'ECG', 'EMG', 'EDA', 'TEMP', 'RESP', 'label']\n",
        "    df_chest.insert(0, 'id', subject_id)\n",
        "\n",
        "    return df_chest\n",
        "\n",
        "\n",
        "def combine_chest():\n",
        "    for i, sid in enumerate(ids):\n",
        "        file = data_path + 'S' + str(sid) + '/S' + str(sid) + '.pkl'\n",
        "        print(\"\")\n",
        "        print(\"Procesando el archivo \", file)\n",
        "        if i == 0:\n",
        "            combined_data = convert_chest(file, sid)\n",
        "            print(\"Dimensión de datos combinados de pecho: \", combined_data.shape)\n",
        "        else:\n",
        "            last_subj = convert_chest(file, sid)\n",
        "            combined_data = np.concatenate((combined_data, last_subj), axis=0)\n",
        "            print(\"Dimensión de datos combinados de pecho: \", combined_data.shape)\n",
        "\n",
        "    fn_combined = path + 'combined_chest.pkl'\n",
        "    pd.DataFrame(combined_data, columns=chest_columns).to_pickle(fn_combined)\n",
        "\n",
        "\n",
        "def filter_chest_data():\n",
        "    df = pd.read_pickle((path + \"combined_chest.pkl\"))\n",
        "    df_filt = df[df[\"label\"].isin([1,2,3])]\n",
        "    df_filt = df_filt[df_filt[\"TEMP\"]>0]\n",
        "    pd.DataFrame(df_filt, columns=chest_columns).to_pickle(path + \"combined_chest_filtered.pkl\")\n",
        "\n",
        "def filter_wrist_data():\n",
        "    df = pd.read_pickle((path + \"combined_wrist.pkl\"))\n",
        "    df_filt = df[df[\"label\"].isin([1,2,3])]\n",
        "    df_filt = df_filt[df_filt[\"TEMP\"]>0]\n",
        "    pd.DataFrame(df_filt, columns=wrist_columns).to_pickle(path + \"combined_wrist_filtered.pkl\")\n",
        "\n"
      ]
    },
    {
      "cell_type": "code",
      "execution_count": 8,
      "metadata": {
        "colab": {
          "base_uri": "https://localhost:8080/"
        },
        "id": "mqfsd0L7VJ65",
        "outputId": "beab8dd1-6149-40dc-80bb-6ffcc96fc928"
      },
      "outputs": [
        {
          "output_type": "stream",
          "name": "stdout",
          "text": [
            "\n",
            "Procesando el archivo  /content/drive/MyDrive/TFM/WESAD/S2/S2.pkl\n",
            "Dimensión de datos combinados de muñeca:  (4255300, 8)\n",
            "\n",
            "Procesando el archivo  /content/drive/MyDrive/TFM/WESAD/S3/S3.pkl\n",
            "Dimensión de datos combinados de muñeca:  (8800400, 8)\n",
            "\n",
            "Procesando el archivo  /content/drive/MyDrive/TFM/WESAD/S4/S4.pkl\n",
            "Dimensión de datos combinados de muñeca:  (13296500, 8)\n",
            "\n",
            "Procesando el archivo  /content/drive/MyDrive/TFM/WESAD/S5/S5.pkl\n",
            "Dimensión de datos combinados de muñeca:  (17677100, 8)\n",
            "\n",
            "Procesando el archivo  /content/drive/MyDrive/TFM/WESAD/S6/S6.pkl\n",
            "Dimensión de datos combinados de muñeca:  (22626800, 8)\n",
            "\n",
            "Procesando el archivo  /content/drive/MyDrive/TFM/WESAD/S7/S7.pkl\n",
            "Dimensión de datos combinados de muñeca:  (26293400, 8)\n",
            "\n",
            "Procesando el archivo  /content/drive/MyDrive/TFM/WESAD/S8/S8.pkl\n",
            "Dimensión de datos combinados de muñeca:  (30119600, 8)\n",
            "\n",
            "Procesando el archivo  /content/drive/MyDrive/TFM/WESAD/S9/S9.pkl\n",
            "Dimensión de datos combinados de muñeca:  (33775700, 8)\n",
            "\n",
            "Procesando el archivo  /content/drive/MyDrive/TFM/WESAD/S10/S10.pkl\n",
            "Dimensión de datos combinados de muñeca:  (37622900, 8)\n",
            "\n",
            "Procesando el archivo  /content/drive/MyDrive/TFM/WESAD/S11/S11.pkl\n",
            "Dimensión de datos combinados de muñeca:  (41286000, 8)\n",
            "\n",
            "Procesando el archivo  /content/drive/MyDrive/TFM/WESAD/S13/S13.pkl\n",
            "Dimensión de datos combinados de muñeca:  (45161900, 8)\n",
            "\n",
            "Procesando el archivo  /content/drive/MyDrive/TFM/WESAD/S14/S14.pkl\n",
            "Dimensión de datos combinados de muñeca:  (49045500, 8)\n",
            "\n",
            "Procesando el archivo  /content/drive/MyDrive/TFM/WESAD/S15/S15.pkl\n",
            "Dimensión de datos combinados de muñeca:  (52721900, 8)\n",
            "\n",
            "Procesando el archivo  /content/drive/MyDrive/TFM/WESAD/S16/S16.pkl\n",
            "Dimensión de datos combinados de muñeca:  (56663600, 8)\n",
            "\n",
            "Procesando el archivo  /content/drive/MyDrive/TFM/WESAD/S17/S17.pkl\n",
            "Dimensión de datos combinados de muñeca:  (60807600, 8)\n"
          ]
        }
      ],
      "source": [
        "combine_wrist()"
      ]
    },
    {
      "cell_type": "code",
      "source": [
        "combine_chest()"
      ],
      "metadata": {
        "colab": {
          "base_uri": "https://localhost:8080/"
        },
        "id": "ynMKtoFRYKFl",
        "outputId": "079052bd-6e14-4306-c452-b26aea0a0a31"
      },
      "execution_count": 12,
      "outputs": [
        {
          "output_type": "stream",
          "name": "stdout",
          "text": [
            "\n",
            "Procesando el archivo  /content/drive/MyDrive/TFM/WESAD/S2/S2.pkl\n",
            "Dimensión de datos combinados de pecho:  (4255300, 10)\n",
            "\n",
            "Procesando el archivo  /content/drive/MyDrive/TFM/WESAD/S3/S3.pkl\n",
            "Dimensión de datos combinados de pecho:  (8800400, 10)\n",
            "\n",
            "Procesando el archivo  /content/drive/MyDrive/TFM/WESAD/S4/S4.pkl\n",
            "Dimensión de datos combinados de pecho:  (13296500, 10)\n",
            "\n",
            "Procesando el archivo  /content/drive/MyDrive/TFM/WESAD/S5/S5.pkl\n",
            "Dimensión de datos combinados de pecho:  (17677100, 10)\n",
            "\n",
            "Procesando el archivo  /content/drive/MyDrive/TFM/WESAD/S6/S6.pkl\n",
            "Dimensión de datos combinados de pecho:  (22626800, 10)\n",
            "\n",
            "Procesando el archivo  /content/drive/MyDrive/TFM/WESAD/S7/S7.pkl\n",
            "Dimensión de datos combinados de pecho:  (26293400, 10)\n",
            "\n",
            "Procesando el archivo  /content/drive/MyDrive/TFM/WESAD/S8/S8.pkl\n",
            "Dimensión de datos combinados de pecho:  (30119600, 10)\n",
            "\n",
            "Procesando el archivo  /content/drive/MyDrive/TFM/WESAD/S9/S9.pkl\n",
            "Dimensión de datos combinados de pecho:  (33775700, 10)\n",
            "\n",
            "Procesando el archivo  /content/drive/MyDrive/TFM/WESAD/S10/S10.pkl\n",
            "Dimensión de datos combinados de pecho:  (37622900, 10)\n",
            "\n",
            "Procesando el archivo  /content/drive/MyDrive/TFM/WESAD/S11/S11.pkl\n",
            "Dimensión de datos combinados de pecho:  (41286000, 10)\n",
            "\n",
            "Procesando el archivo  /content/drive/MyDrive/TFM/WESAD/S13/S13.pkl\n",
            "Dimensión de datos combinados de pecho:  (45161900, 10)\n",
            "\n",
            "Procesando el archivo  /content/drive/MyDrive/TFM/WESAD/S14/S14.pkl\n",
            "Dimensión de datos combinados de pecho:  (49045500, 10)\n",
            "\n",
            "Procesando el archivo  /content/drive/MyDrive/TFM/WESAD/S15/S15.pkl\n",
            "Dimensión de datos combinados de pecho:  (52721900, 10)\n",
            "\n",
            "Procesando el archivo  /content/drive/MyDrive/TFM/WESAD/S16/S16.pkl\n",
            "Dimensión de datos combinados de pecho:  (56663600, 10)\n",
            "\n",
            "Procesando el archivo  /content/drive/MyDrive/TFM/WESAD/S17/S17.pkl\n",
            "Dimensión de datos combinados de pecho:  (60807600, 10)\n"
          ]
        }
      ]
    },
    {
      "cell_type": "code",
      "source": [
        "filter_wrist_data()"
      ],
      "metadata": {
        "id": "ad9avaEdFt69"
      },
      "execution_count": 15,
      "outputs": []
    },
    {
      "cell_type": "code",
      "source": [
        "filter_chest_data()"
      ],
      "metadata": {
        "id": "A-xN4FaAYlRs"
      },
      "execution_count": 16,
      "outputs": []
    }
  ],
  "metadata": {
    "colab": {
      "provenance": []
    },
    "kernelspec": {
      "display_name": "Python 3",
      "name": "python3"
    },
    "language_info": {
      "name": "python"
    }
  },
  "nbformat": 4,
  "nbformat_minor": 0
}